{
  "cells": [
    {
      "cell_type": "code",
      "execution_count": 2,
      "metadata": {
        "colab": {
          "base_uri": "https://localhost:8080/"
        },
        "id": "0kXCDzruwZ3x",
        "outputId": "9471a2b0-923c-41df-97bd-f36428ca5126"
      },
      "outputs": [
        {
          "name": "stderr",
          "output_type": "stream",
          "text": [
            "'apt-get' is not recognized as an internal or external command,\n",
            "operable program or batch file.\n",
            "The system cannot find the path specified.\n",
            "'wget' is not recognized as an internal or external command,\n",
            "operable program or batch file.\n",
            "tar: Error opening archive: Failed to open '$SPARK_VERSION-bin-hadoop3.tgz'\n"
          ]
        },
        {
          "ename": "Exception",
          "evalue": "Unable to find py4j in /content/spark-3.3.1-bin-hadoop3\\python, your SPARK_HOME may not be configured correctly",
          "output_type": "error",
          "traceback": [
            "\u001b[1;31m---------------------------------------------------------------------------\u001b[0m",
            "\u001b[1;31mIndexError\u001b[0m                                Traceback (most recent call last)",
            "File \u001b[1;32mc:\\Users\\dcent\\AppData\\Local\\Programs\\Python\\Python310\\lib\\site-packages\\findspark.py:159\u001b[0m, in \u001b[0;36minit\u001b[1;34m(spark_home, python_path, edit_rc, edit_profile)\u001b[0m\n\u001b[0;32m    158\u001b[0m \u001b[39mtry\u001b[39;00m:\n\u001b[1;32m--> 159\u001b[0m     py4j \u001b[39m=\u001b[39m glob(os\u001b[39m.\u001b[39;49mpath\u001b[39m.\u001b[39;49mjoin(spark_python, \u001b[39m\"\u001b[39;49m\u001b[39mlib\u001b[39;49m\u001b[39m\"\u001b[39;49m, \u001b[39m\"\u001b[39;49m\u001b[39mpy4j-*.zip\u001b[39;49m\u001b[39m\"\u001b[39;49m))[\u001b[39m0\u001b[39;49m]\n\u001b[0;32m    160\u001b[0m \u001b[39mexcept\u001b[39;00m \u001b[39mIndexError\u001b[39;00m:\n",
            "\u001b[1;31mIndexError\u001b[0m: list index out of range",
            "\nDuring handling of the above exception, another exception occurred:\n",
            "\u001b[1;31mException\u001b[0m                                 Traceback (most recent call last)",
            "Cell \u001b[1;32mIn[2], line 22\u001b[0m\n\u001b[0;32m     20\u001b[0m \u001b[39m# Start a SparkSession\u001b[39;00m\n\u001b[0;32m     21\u001b[0m \u001b[39mimport\u001b[39;00m \u001b[39mfindspark\u001b[39;00m\n\u001b[1;32m---> 22\u001b[0m findspark\u001b[39m.\u001b[39;49minit()\n",
            "File \u001b[1;32mc:\\Users\\dcent\\AppData\\Local\\Programs\\Python\\Python310\\lib\\site-packages\\findspark.py:161\u001b[0m, in \u001b[0;36minit\u001b[1;34m(spark_home, python_path, edit_rc, edit_profile)\u001b[0m\n\u001b[0;32m    159\u001b[0m         py4j \u001b[39m=\u001b[39m glob(os\u001b[39m.\u001b[39mpath\u001b[39m.\u001b[39mjoin(spark_python, \u001b[39m\"\u001b[39m\u001b[39mlib\u001b[39m\u001b[39m\"\u001b[39m, \u001b[39m\"\u001b[39m\u001b[39mpy4j-*.zip\u001b[39m\u001b[39m\"\u001b[39m))[\u001b[39m0\u001b[39m]\n\u001b[0;32m    160\u001b[0m     \u001b[39mexcept\u001b[39;00m \u001b[39mIndexError\u001b[39;00m:\n\u001b[1;32m--> 161\u001b[0m         \u001b[39mraise\u001b[39;00m \u001b[39mException\u001b[39;00m(\n\u001b[0;32m    162\u001b[0m             \u001b[39m\"\u001b[39m\u001b[39mUnable to find py4j in \u001b[39m\u001b[39m{}\u001b[39;00m\u001b[39m, your SPARK_HOME may not be configured correctly\u001b[39m\u001b[39m\"\u001b[39m\u001b[39m.\u001b[39mformat(\n\u001b[0;32m    163\u001b[0m                 spark_python\n\u001b[0;32m    164\u001b[0m             )\n\u001b[0;32m    165\u001b[0m         )\n\u001b[0;32m    166\u001b[0m     sys\u001b[39m.\u001b[39mpath[:\u001b[39m0\u001b[39m] \u001b[39m=\u001b[39m sys_path \u001b[39m=\u001b[39m [spark_python, py4j]\n\u001b[0;32m    167\u001b[0m \u001b[39melse\u001b[39;00m:\n\u001b[0;32m    168\u001b[0m     \u001b[39m# already imported, no need to patch sys.path\u001b[39;00m\n",
            "\u001b[1;31mException\u001b[0m: Unable to find py4j in /content/spark-3.3.1-bin-hadoop3\\python, your SPARK_HOME may not be configured correctly"
          ]
        }
      ],
      "source": [
        "import os\n",
        "# Find the latest version of spark 3.0 from http://www.apache.org/dist/spark/ and enter as the spark version\n",
        "# For example:\n",
        "# spark_version = 'spark-3.0.3'\n",
        "spark_version = 'spark-3.3.1'\n",
        "os.environ['SPARK_VERSION']=spark_version\n",
        "\n",
        "# Install Spark and Java\n",
        "!apt-get update\n",
        "!apt-get install openjdk-11-jdk-headless -qq > /dev/null\n",
        "!wget -q http://www.apache.org/dist/spark/$SPARK_VERSION/$SPARK_VERSION-bin-hadoop3.tgz\n",
        "!tar xf $SPARK_VERSION-bin-hadoop3.tgz\n",
        "!pip install -q findspark\n",
        "\n",
        "# Set Environment Variables\n",
        "import os\n",
        "os.environ[\"JAVA_HOME\"] = \"/usr/lib/jvm/java-11-openjdk-amd64\"\n",
        "os.environ[\"SPARK_HOME\"] = f\"/content/{spark_version}-bin-hadoop3\"\n",
        "\n",
        "# Start a SparkSession\n",
        "import findspark\n",
        "findspark.init()\n"
      ]
    },
    {
      "cell_type": "code",
      "execution_count": 2,
      "metadata": {
        "id": "Uh2_wG731Zsn"
      },
      "outputs": [],
      "source": [
        "from pyspark.sql import SparkSession\n",
        "spark = SparkSession.builder.appName(\"Vine_Review_Analysis\").getOrCreate()\n"
      ]
    },
    {
      "cell_type": "code",
      "execution_count": 5,
      "metadata": {
        "colab": {
          "base_uri": "https://localhost:8080/"
        },
        "id": "dr__jnwh1ffe",
        "outputId": "ffd5fdd8-aabe-4b25-bc93-7ec4392e5fb3"
      },
      "outputs": [
        {
          "name": "stdout",
          "output_type": "stream",
          "text": [
            "+-----------+-----------+--------------+----------+--------------+--------------------+------------------+-----------+-------------+-----------+----+-----------------+--------------------+--------------------+-------------------+\n",
            "|marketplace|customer_id|     review_id|product_id|product_parent|       product_title|  product_category|star_rating|helpful_votes|total_votes|vine|verified_purchase|     review_headline|         review_body|        review_date|\n",
            "+-----------+-----------+--------------+----------+--------------+--------------------+------------------+-----------+-------------+-----------+----+-----------------+--------------------+--------------------+-------------------+\n",
            "|         US|   20422322| R8MEA6IGAHO0B|B00MC4CED8|     217304173|BlackVue DR600GW-PMP|Mobile_Electronics|          5|            0|          0|   N|                Y|         Very Happy!|As advertised. Ev...|2015-08-31 00:00:00|\n",
            "|         US|   40835037|R31LOQ8JGLPRLK|B00OQMFG1Q|     137313254|GENSSI GSM / GPS ...|Mobile_Electronics|          5|            0|          1|   N|                Y|           five star|          it's great|2015-08-31 00:00:00|\n",
            "|         US|   51469641|R2Y0MM9YE6OP3P|B00QERR5CY|      82850235|iXCC Multi pack L...|Mobile_Electronics|          5|            0|          0|   N|                Y|        great cables|These work great ...|2015-08-31 00:00:00|\n",
            "|         US|    4332923| RRB9C05HDOD4O|B00QUFTPV4|     221169481|abcGoodefg® FBI C...|Mobile_Electronics|          4|            0|          0|   N|                Y|Work very well bu...|Work very well bu...|2015-08-31 00:00:00|\n",
            "|         US|   44855305|R26I2RI1GFV8QG|B0067XVNTG|     563475445|Generic Car Dashb...|Mobile_Electronics|          2|            0|          0|   N|                Y|Cameras has batte...|Be careful with t...|2015-08-31 00:00:00|\n",
            "|         US|    7846966| RY8DDL22YG4R5|B00KA6CCVY|     713636156|Aweek® Air Acoust...|Mobile_Electronics|          3|            0|          1|   N|                Y|It appears to be ...|It appears to be ...|2015-08-31 00:00:00|\n",
            "|         US|   21299354|R2AT2426ZHFUHH|B00MJCDPM2|     754171872|Sentey LS-4460 B-...|Mobile_Electronics|          3|            0|          1|   N|                Y|Didn't love the f...|First one arrived...|2015-08-31 00:00:00|\n",
            "|         US|   28902968|R3RRXU2R23NMQ9|B00ET5AWBY|     508373185|iPad Car Headrest...|Mobile_Electronics|          5|            0|          0|   N|                Y|          Five Stars|Worked great for ...|2015-08-31 00:00:00|\n",
            "|         US|    2074438|R250PR8VJUZ62F|B00Z9K379C|     759387370|ANWING Waterproof...|Mobile_Electronics|          4|            0|          2|   N|                Y|          Four Stars|this is a very go...|2015-08-31 00:00:00|\n",
            "|         US|   48701722| RBEMQ29WJBHYG|B00YO3UYXW|     913911909|Jensen MCR-100 Ca...|Mobile_Electronics|          5|          164|        168|   N|                Y|  I LOVE my recorder|I LOVE my recorde...|2015-08-31 00:00:00|\n",
            "|         US|    2990247|R19VVIUT4BZCMT|B011W26BU2|     938399424|Bluetooth Speaker...|Mobile_Electronics|          5|            2|          2|   N|                Y|          Five Stars|Great sound great...|2015-08-31 00:00:00|\n",
            "|         US|   52946117|R1DT8JJUQHUKUL|B00H8PI78C|     661515294|15Pcs DC 5V 85dB ...|Mobile_Electronics|          3|            0|          1|   N|                Y|More of a beeper ...|If what you want ...|2015-08-31 00:00:00|\n",
            "|         US|   49359994| RLIL6S9OGM3YA|B00M49C6MK|      91176851|      Sentey Ls 4162|Mobile_Electronics|          5|            0|          0|   N|                Y|          Five Stars|             Love it|2015-08-31 00:00:00|\n",
            "|         US|    4158732|R34EZZ68VYPHO0|B011Q291PK|     891142775|IcePACK 8 Can Ins...|Mobile_Electronics|          1|            1|          1|   N|                Y|            One Star|               Sucks|2015-08-31 00:00:00|\n",
            "|         US|   18944032|R3TZNSOXS13SIG|B00W6OLUGQ|     577462547|DTK® AMI MDI MMI ...|Mobile_Electronics|          2|            1|          3|   N|                Y|           Two Stars|u need to plug in...|2015-08-31 00:00:00|\n",
            "|         US|     279606|R12UBZT87UX3AP|B008MY1F8W|     680240984|INPA K+CAN K+DCAN...|Mobile_Electronics|          5|            2|          2|   N|                Y|          Five Stars|Worked with MHD F...|2015-08-31 00:00:00|\n",
            "|         US|   10947966| R5KCRE927NYMU|B00KW3XNUE|     219920841|Magicfly Wireless...|Mobile_Electronics|          2|            0|          0|   N|                N|Battery Cover Poo...|Just arrived,  re...|2015-08-31 00:00:00|\n",
            "|         US|   18387442| RT12RQFU0V2AX|B009NGR0AK|     254898339|Humminbird XNT 9 ...|Mobile_Electronics|          5|            1|          1|   N|                Y|        Works great.|I bought this uni...|2015-08-31 00:00:00|\n",
            "|         US|   48950322|R2K0YQPV5W2SJ1|B011W26BU2|     938399424|Bluetooth Speaker...|Mobile_Electronics|          4|            2|          2|   N|                Y|A Lot of Sound In...|I am giving the s...|2015-08-31 00:00:00|\n",
            "|         US|   48148197|R104MY31OKNGXH|B00PAP68WO|     366592530|Foxnovo 3.7V 380m...|Mobile_Electronics|          5|            0|          0|   N|                Y|          Five Stars|Met my applicatio...|2015-08-31 00:00:00|\n",
            "+-----------+-----------+--------------+----------+--------------+--------------------+------------------+-----------+-------------+-----------+----+-----------------+--------------------+--------------------+-------------------+\n",
            "only showing top 20 rows\n",
            "\n"
          ]
        }
      ],
      "source": [
        "from pyspark import SparkFiles\n",
        "\n",
        "url = 'https://s3.amazonaws.com/amazon-reviews-pds/tsv/amazon_reviews_us_Mobile_Electronics_v1_00.tsv.gz'\n",
        "\n",
        "spark.sparkContext.addFile(url)\n",
        "\n",
        "df = spark.read.option(\"encoding\", \"UTF-8\").csv(SparkFiles.get(\"\"), sep=\"\\t\", header=True, inferSchema=True)\n",
        "\n",
        "df.show()\n"
      ]
    },
    {
      "cell_type": "code",
      "execution_count": 6,
      "metadata": {
        "colab": {
          "base_uri": "https://localhost:8080/"
        },
        "id": "gKDg1ostc56t",
        "outputId": "83ead74a-b939-4a75-e8cb-c43fc8cf8e15"
      },
      "outputs": [
        {
          "name": "stdout",
          "output_type": "stream",
          "text": [
            "+--------------+-----------+-------------+-----------+----+-----------------+\n",
            "|     review_id|star_rating|helpful_votes|total_votes|vine|verified_purchase|\n",
            "+--------------+-----------+-------------+-----------+----+-----------------+\n",
            "| R8MEA6IGAHO0B|          5|            0|          0|   N|                Y|\n",
            "|R31LOQ8JGLPRLK|          5|            0|          1|   N|                Y|\n",
            "|R2Y0MM9YE6OP3P|          5|            0|          0|   N|                Y|\n",
            "| RRB9C05HDOD4O|          4|            0|          0|   N|                Y|\n",
            "|R26I2RI1GFV8QG|          2|            0|          0|   N|                Y|\n",
            "| RY8DDL22YG4R5|          3|            0|          1|   N|                Y|\n",
            "|R2AT2426ZHFUHH|          3|            0|          1|   N|                Y|\n",
            "|R3RRXU2R23NMQ9|          5|            0|          0|   N|                Y|\n",
            "|R250PR8VJUZ62F|          4|            0|          2|   N|                Y|\n",
            "| RBEMQ29WJBHYG|          5|          164|        168|   N|                Y|\n",
            "|R19VVIUT4BZCMT|          5|            2|          2|   N|                Y|\n",
            "|R1DT8JJUQHUKUL|          3|            0|          1|   N|                Y|\n",
            "| RLIL6S9OGM3YA|          5|            0|          0|   N|                Y|\n",
            "|R34EZZ68VYPHO0|          1|            1|          1|   N|                Y|\n",
            "|R3TZNSOXS13SIG|          2|            1|          3|   N|                Y|\n",
            "|R12UBZT87UX3AP|          5|            2|          2|   N|                Y|\n",
            "| R5KCRE927NYMU|          2|            0|          0|   N|                N|\n",
            "| RT12RQFU0V2AX|          5|            1|          1|   N|                Y|\n",
            "|R2K0YQPV5W2SJ1|          4|            2|          2|   N|                Y|\n",
            "|R104MY31OKNGXH|          5|            0|          0|   N|                Y|\n",
            "+--------------+-----------+-------------+-----------+----+-----------------+\n",
            "only showing top 20 rows\n",
            "\n"
          ]
        }
      ],
      "source": [
        "# Create the vine review DataFrame to be filtered and analyzed below.\n",
        "vine_df = df.select([\"review_id\", \"star_rating\", \"helpful_votes\", \"total_votes\", \"vine\", \"verified_purchase\"])\n",
        "vine_df.show()\n"
      ]
    },
    {
      "cell_type": "code",
      "execution_count": 7,
      "metadata": {
        "colab": {
          "base_uri": "https://localhost:8080/"
        },
        "id": "rbDBy81LdER_",
        "outputId": "615c0463-8501-4880-f6fb-9c14ee4fa30c"
      },
      "outputs": [
        {
          "name": "stdout",
          "output_type": "stream",
          "text": [
            "+--------------+-----------+-------------+-----------+----+-----------------+\n",
            "|     review_id|star_rating|helpful_votes|total_votes|vine|verified_purchase|\n",
            "+--------------+-----------+-------------+-----------+----+-----------------+\n",
            "|R31LOQ8JGLPRLK|          5|            0|          1|   N|                Y|\n",
            "| RY8DDL22YG4R5|          3|            0|          1|   N|                Y|\n",
            "|R2AT2426ZHFUHH|          3|            0|          1|   N|                Y|\n",
            "|R250PR8VJUZ62F|          4|            0|          2|   N|                Y|\n",
            "| RBEMQ29WJBHYG|          5|          164|        168|   N|                Y|\n",
            "|R19VVIUT4BZCMT|          5|            2|          2|   N|                Y|\n",
            "|R1DT8JJUQHUKUL|          3|            0|          1|   N|                Y|\n",
            "|R34EZZ68VYPHO0|          1|            1|          1|   N|                Y|\n",
            "|R3TZNSOXS13SIG|          2|            1|          3|   N|                Y|\n",
            "|R12UBZT87UX3AP|          5|            2|          2|   N|                Y|\n",
            "| RT12RQFU0V2AX|          5|            1|          1|   N|                Y|\n",
            "|R2K0YQPV5W2SJ1|          4|            2|          2|   N|                Y|\n",
            "|R3EQYRGIIJQBHT|          5|            0|          1|   N|                N|\n",
            "|R3IF1H9L7WSGQD|          5|            1|          1|   N|                N|\n",
            "| R5I2YBT9J85FF|          5|            2|          2|   N|                Y|\n",
            "|R3PG8VI81UURO5|          5|            0|          1|   N|                N|\n",
            "|R2OC0E4X4RISOB|          3|            0|          3|   N|                Y|\n",
            "|R2074W1A28UUU6|          5|            9|         11|   N|                N|\n",
            "|R2RWA9DSTPVRCI|          5|            2|          2|   N|                Y|\n",
            "|R2W7SNCOCHAVOK|          5|            0|          1|   N|                Y|\n",
            "+--------------+-----------+-------------+-----------+----+-----------------+\n",
            "only showing top 20 rows\n",
            "\n"
          ]
        }
      ],
      "source": [
        "# Filter Step 1:\n",
        "# Filter the data and create a new DataFrame to retrieve all the rows \n",
        "# where the total_votes count is equal to or greater than 20 to pick \n",
        "# reviews that are more likely to be helpful and to avoid having division \n",
        "# by zero errors later on.\n",
        "vine_clean_df = vine_df.filter('total_votes > 0')\n",
        "vine_clean_df.show()\n"
      ]
    },
    {
      "cell_type": "code",
      "execution_count": 30,
      "metadata": {
        "colab": {
          "base_uri": "https://localhost:8080/"
        },
        "id": "ToB5xz3i30OE",
        "outputId": "e072bb3e-6b65-43e9-badf-e2de596be7a7"
      },
      "outputs": [
        {
          "data": {
            "text/plain": [
              "DataFrame[summary: string, review_id: string, star_rating: string, helpful_votes: string, total_votes: string, vine: string, verified_purchase: string]"
            ]
          },
          "execution_count": 30,
          "metadata": {},
          "output_type": "execute_result"
        }
      ],
      "source": [
        "vine_clean_df.describe()\n"
      ]
    },
    {
      "cell_type": "code",
      "execution_count": 9,
      "metadata": {
        "colab": {
          "base_uri": "https://localhost:8080/"
        },
        "id": "QHylmKmoeH2s",
        "outputId": "8b05b046-1a2d-4f09-8996-b9d49a7fcd00"
      },
      "outputs": [
        {
          "name": "stdout",
          "output_type": "stream",
          "text": [
            "+--------------+-----------+-------------+-----------+----+-----------------+\n",
            "|     review_id|star_rating|helpful_votes|total_votes|vine|verified_purchase|\n",
            "+--------------+-----------+-------------+-----------+----+-----------------+\n",
            "| RBEMQ29WJBHYG|          5|          164|        168|   N|                Y|\n",
            "|R19VVIUT4BZCMT|          5|            2|          2|   N|                Y|\n",
            "|R34EZZ68VYPHO0|          1|            1|          1|   N|                Y|\n",
            "|R12UBZT87UX3AP|          5|            2|          2|   N|                Y|\n",
            "| RT12RQFU0V2AX|          5|            1|          1|   N|                Y|\n",
            "|R2K0YQPV5W2SJ1|          4|            2|          2|   N|                Y|\n",
            "|R3IF1H9L7WSGQD|          5|            1|          1|   N|                N|\n",
            "| R5I2YBT9J85FF|          5|            2|          2|   N|                Y|\n",
            "|R2074W1A28UUU6|          5|            9|         11|   N|                N|\n",
            "|R2RWA9DSTPVRCI|          5|            2|          2|   N|                Y|\n",
            "|R18TG2USOSVOC3|          1|            1|          1|   N|                Y|\n",
            "|R27GI77VF2P6WF|          3|            2|          3|   N|                Y|\n",
            "| R802NI63NKL9V|          5|            2|          2|   N|                Y|\n",
            "| R4OJIBI7DBHQY|          5|            1|          1|   N|                Y|\n",
            "|R3FBUNWANUJRTU|          5|            2|          2|   N|                Y|\n",
            "|R2SXHHN0P24XX2|          4|            2|          2|   N|                Y|\n",
            "|R2H1V2O1SVWULZ|          4|            2|          2|   N|                Y|\n",
            "|R3KWJ45TNIR8O5|          5|            1|          1|   N|                Y|\n",
            "|R12LYV1UT0I45R|          4|            1|          1|   N|                Y|\n",
            "|R18ZX5SMSC1R1Z|          3|            5|          5|   N|                Y|\n",
            "+--------------+-----------+-------------+-----------+----+-----------------+\n",
            "only showing top 20 rows\n",
            "\n"
          ]
        }
      ],
      "source": [
        "# Filter Step 2:\n",
        "# Filter the new DataFrame created in Step 1 and create a new DataFrame \n",
        "# to retrieve all the rows where the number of helpful_votes divided by total_votes \n",
        "# is equal to or greater than 50%.\n",
        "vine_helpful_votes_df = vine_clean_df.filter('(helpful_votes / total_votes) > 0.5')\n",
        "vine_helpful_votes_df.show()\n"
      ]
    },
    {
      "cell_type": "code",
      "execution_count": 15,
      "metadata": {
        "colab": {
          "base_uri": "https://localhost:8080/"
        },
        "id": "MTnOY3rafZR1",
        "outputId": "2b1cad8f-ef44-4482-bc44-372989f3e028"
      },
      "outputs": [
        {
          "name": "stdout",
          "output_type": "stream",
          "text": [
            "+--------------+-----------+-------------+-----------+----+-----------------+\n",
            "|     review_id|star_rating|helpful_votes|total_votes|vine|verified_purchase|\n",
            "+--------------+-----------+-------------+-----------+----+-----------------+\n",
            "|R3BOQTLUU3Y4L8|          4|           42|         55|   Y|                N|\n",
            "| RWF03LXVXC22A|          3|          396|        445|   Y|                N|\n",
            "|R2MUPC17C2FAA3|          4|           11|         14|   Y|                N|\n",
            "| R19DZ4ZILR75G|          4|            5|          9|   Y|                N|\n",
            "|R37RHDWFZYGHQS|          5|            6|         10|   Y|                N|\n",
            "| REPU28WG1VZUE|          5|          242|        281|   Y|                N|\n",
            "|R1D6REC9HPJVQY|          4|           31|         41|   Y|                N|\n",
            "| R9US6D46U1A00|          5|            8|         11|   Y|                N|\n",
            "| RH7LF0WVHLWIK|          2|            4|          7|   Y|                N|\n",
            "+--------------+-----------+-------------+-----------+----+-----------------+\n",
            "\n"
          ]
        }
      ],
      "source": [
        "# Filter the DataFrame created in Step 2 and create a new DataFrame that \n",
        "# retrieves all the rows where a review was written as part of the \n",
        "# Vine program (paid), i.e. vine == 'Y'.\n",
        "vine_reviews_df = vine_helpful_votes_df.filter('vine == \"Y\"')\n",
        "vine_reviews_df.show()\n"
      ]
    },
    {
      "cell_type": "code",
      "execution_count": 31,
      "metadata": {
        "colab": {
          "base_uri": "https://localhost:8080/"
        },
        "id": "kVF-y3UchF64",
        "outputId": "83626b43-0c17-4afd-ca15-b080ef26593f"
      },
      "outputs": [
        {
          "name": "stdout",
          "output_type": "stream",
          "text": [
            "+--------------+-----------+-------------+-----------+----+-----------------+\n",
            "|     review_id|star_rating|helpful_votes|total_votes|vine|verified_purchase|\n",
            "+--------------+-----------+-------------+-----------+----+-----------------+\n",
            "| RBEMQ29WJBHYG|          5|          164|        168|   N|                Y|\n",
            "|R19VVIUT4BZCMT|          5|            2|          2|   N|                Y|\n",
            "|R34EZZ68VYPHO0|          1|            1|          1|   N|                Y|\n",
            "|R12UBZT87UX3AP|          5|            2|          2|   N|                Y|\n",
            "| RT12RQFU0V2AX|          5|            1|          1|   N|                Y|\n",
            "|R2K0YQPV5W2SJ1|          4|            2|          2|   N|                Y|\n",
            "|R3IF1H9L7WSGQD|          5|            1|          1|   N|                N|\n",
            "| R5I2YBT9J85FF|          5|            2|          2|   N|                Y|\n",
            "|R2074W1A28UUU6|          5|            9|         11|   N|                N|\n",
            "|R2RWA9DSTPVRCI|          5|            2|          2|   N|                Y|\n",
            "|R18TG2USOSVOC3|          1|            1|          1|   N|                Y|\n",
            "|R27GI77VF2P6WF|          3|            2|          3|   N|                Y|\n",
            "| R802NI63NKL9V|          5|            2|          2|   N|                Y|\n",
            "| R4OJIBI7DBHQY|          5|            1|          1|   N|                Y|\n",
            "|R3FBUNWANUJRTU|          5|            2|          2|   N|                Y|\n",
            "|R2SXHHN0P24XX2|          4|            2|          2|   N|                Y|\n",
            "|R2H1V2O1SVWULZ|          4|            2|          2|   N|                Y|\n",
            "|R3KWJ45TNIR8O5|          5|            1|          1|   N|                Y|\n",
            "|R12LYV1UT0I45R|          4|            1|          1|   N|                Y|\n",
            "|R18ZX5SMSC1R1Z|          3|            5|          5|   N|                Y|\n",
            "+--------------+-----------+-------------+-----------+----+-----------------+\n",
            "only showing top 20 rows\n",
            "\n"
          ]
        }
      ],
      "source": [
        "# Filter the DataFrame created in Step 2 and create a new DataFrame that \n",
        "# retrieves all the rows where a review was NOT written as part of the\n",
        "# Vine paid program, i.e. vine == 'N'.\n",
        "nonvine_reviews_df = vine_helpful_votes_df.filter('vine == \"N\"')\n",
        "nonvine_reviews_df.show()\n"
      ]
    },
    {
      "cell_type": "code",
      "execution_count": 51,
      "metadata": {
        "colab": {
          "base_uri": "https://localhost:8080/"
        },
        "id": "06MtXY92hiU1",
        "outputId": "a8556f25-b467-40b8-8545-ad92880ac6c5"
      },
      "outputs": [
        {
          "name": "stdout",
          "output_type": "stream",
          "text": [
            "+---------------+\n",
            "|sum_total_votes|\n",
            "+---------------+\n",
            "|            873|\n",
            "+---------------+\n",
            "\n",
            "+---------------+\n",
            "|five_star_votes|\n",
            "+---------------+\n",
            "|            302|\n",
            "+---------------+\n",
            "\n",
            "The percentage of vine 5 star reviews is:  35\n"
          ]
        }
      ],
      "source": [
        "# Calculate the following values for the vine reviews:\n",
        "# Total number of reviews \n",
        "# Total number of 5-star reviews\n",
        "# Percentage of 5-star reviews\n",
        "vine_review_total = vine_reviews_df.agg({'total_votes': 'sum'}). \\\n",
        "  withColumnRenamed('sum(total_votes)', 'sum_total_votes')\n",
        "\n",
        "vine_review_5_stars = vine_reviews_df.filter('star_rating == 5'). \\\n",
        "  agg({'total_votes': 'sum'}). \\\n",
        "  withColumnRenamed('sum(total_votes)', 'five_star_votes')\n",
        "\n",
        "vine_review_total.show()\n",
        "vine_review_5_stars.show()\n",
        "\n",
        "vine_percentage = round((vine_review_5_stars.collect()[0][0] / vine_review_total.collect()[0][0]) * 100)\n",
        "\n",
        "print('The percentage of vine 5 star reviews is: ', vine_percentage)\n"
      ]
    },
    {
      "cell_type": "code",
      "execution_count": 52,
      "metadata": {
        "colab": {
          "base_uri": "https://localhost:8080/"
        },
        "id": "R170vBEn7AWQ",
        "outputId": "a8354b38-48c5-4ace-dead-2eb58f798a63"
      },
      "outputs": [
        {
          "name": "stdout",
          "output_type": "stream",
          "text": [
            "+---------------+\n",
            "|sum_total_votes|\n",
            "+---------------+\n",
            "|         134751|\n",
            "+---------------+\n",
            "\n",
            "+---------------+\n",
            "|five_star_votes|\n",
            "+---------------+\n",
            "|          64375|\n",
            "+---------------+\n",
            "\n",
            "The percentage of non-vine 5 star reviews is:  48\n"
          ]
        }
      ],
      "source": [
        "# Calculate the following values for the non-vine reviews:\n",
        "# Total number of reviews \n",
        "# Total number of 5-star reviews\n",
        "# Percentage of 5-star reviews\n",
        "nonvine_review_total = nonvine_reviews_df.agg({'total_votes': 'sum'}). \\\n",
        "  withColumnRenamed('sum(total_votes)', 'sum_total_votes')\n",
        "\n",
        "nonvine_review_5_stars = nonvine_reviews_df.filter('star_rating == 5'). \\\n",
        "  agg({'total_votes': 'sum'}). \\\n",
        "  withColumnRenamed('sum(total_votes)', 'five_star_votes')\n",
        "\n",
        "nonvine_review_total.show()\n",
        "nonvine_review_5_stars.show()\n",
        "\n",
        "nonvine_percentage = round((nonvine_review_5_stars.collect()[0][0] / nonvine_review_total.collect()[0][0]) * 100)\n",
        "\n",
        "print('The percentage of non-vine 5 star reviews is: ', nonvine_percentage)\n"
      ]
    }
  ],
  "metadata": {
    "colab": {
      "provenance": []
    },
    "kernelspec": {
      "display_name": "Python 3",
      "language": "python",
      "name": "python3"
    },
    "language_info": {
      "codemirror_mode": {
        "name": "ipython",
        "version": 3
      },
      "file_extension": ".py",
      "mimetype": "text/x-python",
      "name": "python",
      "nbconvert_exporter": "python",
      "pygments_lexer": "ipython3",
      "version": "3.10.6"
    },
    "vscode": {
      "interpreter": {
        "hash": "3e2ffc7be13be5875a547c3feabb978d3f7c69c1d5cf8ed3bed749b4e6f56a93"
      }
    }
  },
  "nbformat": 4,
  "nbformat_minor": 0
}
